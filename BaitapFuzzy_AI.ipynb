{
  "nbformat": 4,
  "nbformat_minor": 0,
  "metadata": {
    "colab": {
      "provenance": [],
      "authorship_tag": "ABX9TyOxsb56Yp2Dm8doboQ2yQlu",
      "include_colab_link": true
    },
    "kernelspec": {
      "name": "python3",
      "display_name": "Python 3"
    },
    "language_info": {
      "name": "python"
    }
  },
  "cells": [
    {
      "cell_type": "markdown",
      "metadata": {
        "id": "view-in-github",
        "colab_type": "text"
      },
      "source": [
        "<a href=\"https://colab.research.google.com/github/TraoAnTan/AI/blob/main/BaitapFuzzy_AI.ipynb\" target=\"_parent\"><img src=\"https://colab.research.google.com/assets/colab-badge.svg\" alt=\"Open In Colab\"/></a>"
      ]
    },
    {
      "cell_type": "code",
      "execution_count": 1,
      "metadata": {
        "colab": {
          "base_uri": "https://localhost:8080/"
        },
        "id": "gOkm-EIeWEio",
        "outputId": "c269b271-d4cc-4227-e705-4600eb30d101"
      },
      "outputs": [
        {
          "output_type": "stream",
          "name": "stdout",
          "text": [
            "Looking in indexes: https://pypi.org/simple, https://us-python.pkg.dev/colab-wheels/public/simple/\n",
            "Collecting scikit-fuzzy\n",
            "  Downloading scikit-fuzzy-0.4.2.tar.gz (993 kB)\n",
            "\u001b[2K     \u001b[90m━━━━━━━━━━━━━━━━━━━━━━━━━━━━━━━━━━━━━━\u001b[0m \u001b[32m994.0/994.0 KB\u001b[0m \u001b[31m32.7 MB/s\u001b[0m eta \u001b[36m0:00:00\u001b[0m\n",
            "\u001b[?25h  Preparing metadata (setup.py) ... \u001b[?25l\u001b[?25hdone\n",
            "Requirement already satisfied: numpy>=1.6.0 in /usr/local/lib/python3.8/dist-packages (from scikit-fuzzy) (1.22.4)\n",
            "Requirement already satisfied: scipy>=0.9.0 in /usr/local/lib/python3.8/dist-packages (from scikit-fuzzy) (1.7.3)\n",
            "Requirement already satisfied: networkx>=1.9.0 in /usr/local/lib/python3.8/dist-packages (from scikit-fuzzy) (3.0)\n",
            "Building wheels for collected packages: scikit-fuzzy\n",
            "  Building wheel for scikit-fuzzy (setup.py) ... \u001b[?25l\u001b[?25hdone\n",
            "  Created wheel for scikit-fuzzy: filename=scikit_fuzzy-0.4.2-py3-none-any.whl size=894088 sha256=5ad17f43e5304b894cf2caa1803e399ef45cd3f2ade72d007f5f37f12074397a\n",
            "  Stored in directory: /root/.cache/pip/wheels/2c/04/80/7eefb1a2de7d36aefd06432fab2a1486caf0a0596a7067391a\n",
            "Successfully built scikit-fuzzy\n",
            "Installing collected packages: scikit-fuzzy\n",
            "Successfully installed scikit-fuzzy-0.4.2\n"
          ]
        }
      ],
      "source": [
        "pip install scikit-fuzzy"
      ]
    },
    {
      "cell_type": "code",
      "source": [
        "# 2.3.1 ProtFIS\n",
        "\n",
        "import numpy as np\n",
        "import skfuzzy as fuzz\n",
        "import matplotlib.pyplot as plt\n",
        "from skfuzzy import control as ctrl\n",
        "\n",
        "sirolimus = ctrl.Antecedent(np.arange(0,20.5,0.5), 'sirolimus')\n",
        "glycaemia = ctrl.Antecedent(np.arange(70,151,1),'glycaemia')\n",
        "proteinuria = ctrl.Consequent(np.arange(0,5100,100),'proteinuria')\n",
        "\n",
        "glycaemia['good'] = fuzz.trimf(glycaemia.universe, [70,85,100])\n",
        "glycaemia['alarm'] = fuzz.trimf(glycaemia.universe, [100,112,125])\n",
        "glycaemia['danger'] = fuzz.trimf(glycaemia.universe, [125,140,150])\n",
        "\n",
        "sirolimus['alram down'] = fuzz.trimf(sirolimus.universe, [0,1,2])\n",
        "sirolimus['good'] = fuzz.trimf(sirolimus.universe, [1.5,3.5,5])\n",
        "sirolimus['suff'] = fuzz.trimf(sirolimus.universe, [4,7.5,11])\n",
        "sirolimus['alarm up'] = fuzz.trimf(sirolimus.universe, [8,11,15])\n",
        "sirolimus['danger'] = fuzz.trimf(sirolimus.universe, [12,16,20])\n",
        "\n",
        "proteinuria['good'] = fuzz.trimf(proteinuria.universe, [150,150,150])\n",
        "proteinuria['sufficient']= fuzz.trimf(proteinuria.universe, [150,330,500])\n",
        "proteinuria['alterate'] = fuzz.trimf(proteinuria.universe, [500,750,1000])\n",
        "proteinuria['alarm'] = fuzz.trimf(proteinuria.universe, [1000,2000,3000])\n",
        "proteinuria['danger'] =fuzz.trimf(proteinuria.universe, [3000,4000,5000])\n",
        "\n",
        "# glycaemia.view()\n",
        "# sirolimus.view()\n",
        "# proteinuria.view()\n",
        "\n",
        "rule1 = ctrl.Rule(glycaemia['good']& sirolimus['good'], proteinuria['good'])\n",
        "rule2 = ctrl.Rule(glycaemia['danger']& sirolimus['danger'], proteinuria['danger'])\n",
        "rule3 = ctrl.Rule(glycaemia['good']& sirolimus['good'], proteinuria['sufficient'])\n",
        "rule4 = ctrl.Rule(glycaemia['alarm']& sirolimus['alarm up'], proteinuria['alarm'])\n",
        "rule5 = ctrl.Rule(glycaemia['alarm']& sirolimus['good'], proteinuria['alterate'])\n",
        "rule6 = ctrl.Rule(glycaemia['good']& sirolimus['alarm up'], proteinuria['alterate'])\n",
        "rule7 = ctrl.Rule(glycaemia['alarm']& sirolimus['good'], proteinuria['sufficient'])\n",
        "rule8 = ctrl.Rule(glycaemia['good']& sirolimus['alram down'], proteinuria['sufficient'])\n",
        "rule9 = ctrl.Rule(glycaemia['danger']& sirolimus['good'], proteinuria['alarm'])\n",
        "rule10 = ctrl.Rule(glycaemia['danger']& sirolimus['good'], proteinuria['alarm'])\n",
        "rule11 = ctrl.Rule(glycaemia['danger']& sirolimus['alarm up'], proteinuria['danger'])\n",
        "\n",
        "proteinuria_ctrl = ctrl.ControlSystem([rule1,rule2,rule3,rule4,rule5,rule6,rule7,rule8,rule9,rule10,rule11])\n",
        "proteinuria_result = ctrl.ControlSystemSimulation(proteinuria_ctrl)\n",
        "proteinuria_result.input['sirolimus'] = 10\n",
        "proteinuria_result.input['glycaemia']= 113\n",
        "proteinuria_result.compute()\n",
        "print(proteinuria_result.output['proteinuria'])\n",
        "proteinuria.view(sim = proteinuria_result)\n",
        "\n",
        "\n"
      ],
      "metadata": {
        "id": "jnNtiglXWZxL"
      },
      "execution_count": null,
      "outputs": []
    },
    {
      "cell_type": "code",
      "source": [
        "# 2.3.2 GfrFIS\n",
        "import numpy as np\n",
        "import skfuzzy as fuzz\n",
        "import matplotlib.pyplot as plt\n",
        "from skfuzzy import control as ctrl\n",
        "\n",
        "glycaemia = ctrl.Antecedent(np.arange(70, 151, 1), 'glycaemia')\n",
        "cyclosporine = ctrl.Antecedent(np.arange(0, 22.5, 0.5), 'cyclosporine')\n",
        "GFR = ctrl.Consequent(np.arange(0, 111, 1), 'GFR')\n",
        "\n",
        "glycaemia['good'] = fuzz.trimf(glycaemia.universe, [70, 85, 100])\n",
        "glycaemia['alarm'] = fuzz.trimf(glycaemia.universe, [100, 112, 125])\n",
        "glycaemia['danger'] = fuzz.trimf(glycaemia.universe, [125, 138, 150])\n",
        "\n",
        "cyclosporine['alarm_down'] = fuzz.trimf(cyclosporine.universe, [0,1,2])\n",
        "cyclosporine['good'] = fuzz.trimf(cyclosporine.universe, [1.5,3.5,5])\n",
        "cyclosporine['sufficient'] = fuzz.trimf(cyclosporine.universe, [4,7.5,11])\n",
        "cyclosporine['alarm_up'] = fuzz.trimf(cyclosporine.universe, [8,11.5,15])\n",
        "cyclosporine['danger'] = fuzz.trimf(cyclosporine.universe, [12,16,20])\n",
        "\n",
        "GFR['good'] = fuzz.trimf(GFR.universe, [0, 7.5, 15])\n",
        "GFR['alarm2'] = fuzz.trimf(GFR.universe, [15, 22.5, 30])\n",
        "GFR['alarm3'] = fuzz.trimf(GFR.universe, [30, 45, 60])\n",
        "GFR['alarm4'] = fuzz.trimf(GFR.universe, [60, 75, 90])\n",
        "GFR['danger'] = fuzz.trimf(GFR.universe, [90, 100, 110])\n",
        "\n",
        "rule1 = ctrl.Rule(glycaemia['danger'] & cyclosporine['danger'], GFR['danger'])\n",
        "rule2 = ctrl.Rule(glycaemia['good'] & cyclosporine['danger'], GFR['alarm3'])\n",
        "rule3 = ctrl.Rule(glycaemia['alarm'] & cyclosporine['alarm_up'], GFR['alarm4'])\n",
        "rule4 = ctrl.Rule(glycaemia['good'] & cyclosporine['sufficient'], GFR['alarm2'])\n",
        "rule5 = ctrl.Rule(glycaemia['good'] & cyclosporine['good'], GFR['good'])\n",
        "rule6 = ctrl.Rule(glycaemia['alarm'] & cyclosporine['good'], GFR['alarm2'])\n",
        "rule7 = ctrl.Rule(glycaemia['danger'] & cyclosporine['good'], GFR['alarm3'])\n",
        "rule8 = ctrl.Rule(glycaemia['alarm'] & cyclosporine['danger'], GFR['alarm4'])\n",
        "\n",
        "# glycaemia.view()\n",
        "# cyclosporine.view()\n",
        "# GFR.view()\n",
        "\n",
        "gfr_ctrl = ctrl.ControlSystem([rule1, rule2, rule3, rule4, rule5, rule6, rule7, rule8])\n",
        "gfr = ctrl.ControlSystemSimulation(gfr_ctrl)\n",
        "gfr.input['glycaemia'] = 83\n",
        "gfr.input['cyclosporine'] = 4\n",
        "gfr.compute()\n",
        "print(gfr.output['GFR']) \n",
        "GFR.view(sim=gfr)\n",
        "\n",
        "\n"
      ],
      "metadata": {
        "id": "iJB4hEGdWyMs"
      },
      "execution_count": null,
      "outputs": []
    },
    {
      "cell_type": "code",
      "source": [
        "# 2.4.1 ProtACE\n",
        "import numpy as np\n",
        "import skfuzzy as fuzz\n",
        "from skfuzzy import  control as ctrl\n",
        "\n",
        "glycaemia = ctrl.Antecedent(np.arange(70, 151, 1), 'glycaemia')\n",
        "ACE_inhibitor = ctrl.Antecedent(np.arange(0, 11.5, 0.5), 'ACE_inhibitor')\n",
        "proteinuria = ctrl.Consequent(np.arange(150, 5001, 1), 'proteinuria')\n",
        "\n",
        "glycaemia['good'] = fuzz.trimf(glycaemia.universe, [70, 85, 100])\n",
        "glycaemia['alarm'] = fuzz.trimf(glycaemia.universe, [100, 112, 125])\n",
        "glycaemia['danger'] = fuzz.trimf(glycaemia.universe, [125, 138, 150])\n",
        "\n",
        "ACE_inhibitor['0'] = fuzz.trimf(ACE_inhibitor.universe, [0, 0, 0.5])\n",
        "ACE_inhibitor['1'] = fuzz.trimf(ACE_inhibitor.universe, [0.5, 1, 1.5])\n",
        "ACE_inhibitor['2'] = fuzz.trimf(ACE_inhibitor.universe, [1.5, 2, 2.5])\n",
        "ACE_inhibitor['3'] = fuzz.trimf(ACE_inhibitor.universe, [2.5, 3.5, 5])\n",
        "ACE_inhibitor['4'] = fuzz.trimf(ACE_inhibitor.universe, [5, 7.5, 10])\n",
        "\n",
        "proteinuria['good'] = fuzz.trimf(proteinuria.universe, [150, 150, 150])\n",
        "proteinuria['sufficient'] = fuzz.trimf(proteinuria.universe, [151, 325, 500])\n",
        "proteinuria['alterate'] = fuzz.trimf(proteinuria.universe, [500, 750, 1000])\n",
        "proteinuria['alarm'] = fuzz.trimf(proteinuria.universe, [1000, 2000, 3000])\n",
        "proteinuria['danger'] = fuzz.trimf(proteinuria.universe, [3000, 4000, 5000])\n",
        "\n",
        "\n",
        "\n",
        "rule1 = ctrl.Rule(glycaemia['alarm'] & ACE_inhibitor['2'], proteinuria['sufficient'])\n",
        "rule2 = ctrl.Rule(glycaemia['good'] & ACE_inhibitor['1'], proteinuria['sufficient'])\n",
        "rule3 = ctrl.Rule(glycaemia['alarm'] & ACE_inhibitor['1'], proteinuria['alterate'])\n",
        "rule4 = ctrl.Rule(glycaemia['danger'] & ACE_inhibitor['1'], proteinuria['alarm'])\n",
        "rule5 = ctrl.Rule(glycaemia['alarm'] & ACE_inhibitor['3'], proteinuria['alarm'])\n",
        "rule6 = ctrl.Rule(glycaemia['good'] & ACE_inhibitor['3'], proteinuria['alterate'])\n",
        "rule7 = ctrl.Rule(glycaemia['danger'] & ACE_inhibitor['4'], proteinuria['danger'])\n",
        "rule8 = ctrl.Rule(glycaemia['good'] & ACE_inhibitor['0'], proteinuria['good'])\n",
        "rule9 = ctrl.Rule(glycaemia['alarm'] & ACE_inhibitor['4'], proteinuria['danger'])\n",
        "\n",
        "# glycaemia.view()\n",
        "# ACE_inhibitor.view()\n",
        "# proteinuria.view()\n",
        "\n",
        "proteinuria_ctrl = ctrl.ControlSystem([rule1, rule2, rule3, rule4, rule5, rule6, rule7, rule8, rule9])\n",
        "protein = ctrl.ControlSystemSimulation( proteinuria_ctrl)\n",
        "protein.input['glycaemia'] = 101\n",
        "protein.input['ACE_inhibitor'] = 4\n",
        "protein.compute()\n",
        "print(protein.output['proteinuria'])\n",
        "proteinuria.view(sim=protein)"
      ],
      "metadata": {
        "id": "ZiA2uvAdzzv9"
      },
      "execution_count": null,
      "outputs": []
    },
    {
      "cell_type": "code",
      "source": [
        "# 2.4.2 GfrACE\n",
        "from networkx.algorithms.clique import graph_number_of_cliques\n",
        "import numpy as np\n",
        "import skfuzzy as fuzz\n",
        "from skfuzzy import  control as ctrl\n",
        "\n",
        "glycaemia = ctrl.Antecedent(np.arange(70, 151, 1), 'glycaemia')\n",
        "ACE_inhibitor = ctrl.Antecedent(np.arange(0, 11, 1), 'ACE_inhibitor')\n",
        "GFR = ctrl.Consequent(np.arange(0, 111, 1), 'GFR')\n",
        "\n",
        "glycaemia['good'] = fuzz.trimf(glycaemia.universe, [69, 85, 99])\n",
        "glycaemia['alarm'] = fuzz.trimf(glycaemia.universe, [99, 112, 125])\n",
        "glycaemia['danger'] = fuzz.trimf(glycaemia.universe, [124, 138, 151])\n",
        "\n",
        "ACE_inhibitor['0'] = fuzz.trimf(ACE_inhibitor.universe, [0, 0, 0.5])\n",
        "ACE_inhibitor['1'] = fuzz.trimf(ACE_inhibitor.universe, [0.4, 0.85, 1.25])\n",
        "ACE_inhibitor['2'] = fuzz.trimf(ACE_inhibitor.universe, [1.2, 1.8, 2.5])\n",
        "ACE_inhibitor['3'] = fuzz.trimf(ACE_inhibitor.universe, [2.4, 3.6, 5])\n",
        "ACE_inhibitor['4'] = fuzz.trimf(ACE_inhibitor.universe, [4.9, 7.5, 10])\n",
        "\n",
        "GFR['good'] = fuzz.trimf(GFR.universe, [0, 7.5, 15])\n",
        "GFR['alarm2'] = fuzz.trimf(GFR.universe, [15, 22.5, 30])\n",
        "GFR['alarm3'] = fuzz.trimf(GFR.universe, [30, 45, 60])\n",
        "GFR['alarm4'] = fuzz.trimf(GFR.universe, [60, 75, 90])\n",
        "GFR['danger'] = fuzz.trimf(GFR.universe, [90, 100, 110])\n",
        "\n",
        "\n",
        "rule1 = ctrl.Rule(glycaemia['good'] & ACE_inhibitor['2'], GFR['alarm3'])\n",
        "rule2 = ctrl.Rule(glycaemia['alarm'] & ACE_inhibitor['2'], GFR['alarm3'])\n",
        "rule3 = ctrl.Rule(glycaemia['good'] & ACE_inhibitor['1'], GFR['alarm2'])\n",
        "rule4 = ctrl.Rule(glycaemia['alarm'] & ACE_inhibitor['1'], GFR['alarm2'])\n",
        "rule5 = ctrl.Rule(glycaemia['good'] & ACE_inhibitor['3'], GFR['alarm3'])\n",
        "rule6 = ctrl.Rule(glycaemia['danger'] & ACE_inhibitor['3'], GFR['alarm4'])\n",
        "rule7 = ctrl.Rule(glycaemia['good'] & ACE_inhibitor['4'], GFR['alarm2'])\n",
        "rule8 = ctrl.Rule(glycaemia['good'] & ACE_inhibitor['0'], GFR['good'])\n",
        "rule9 = ctrl.Rule(glycaemia['danger'] & ACE_inhibitor['4'], GFR['danger'])\n",
        "\n",
        "# glycaemia.view()\n",
        "# cyclosporine.view()\n",
        "# GFR.view()\n",
        "\n",
        "gfr_ctrl = ctrl.ControlSystem([rule1, rule2, rule3, rule4, rule5, rule6, rule7, rule8, rule9])\n",
        "gfr = ctrl.ControlSystemSimulation(gfr_ctrl)\n",
        "gfr.input['glycaemia'] = 83\n",
        "gfr.input['ACE_inhibitor'] = 4\n",
        "gfr.compute()\n",
        "print(gfr.output['GFR'])\n",
        "GFR.view(sim=gfr)"
      ],
      "metadata": {
        "colab": {
          "base_uri": "https://localhost:8080/",
          "height": 298
        },
        "id": "kaGqx23-1YXJ",
        "outputId": "c7ad4dc7-bb2d-4eb4-8ead-c4c978e1e4a4"
      },
      "execution_count": 44,
      "outputs": [
        {
          "output_type": "stream",
          "name": "stdout",
          "text": [
            "45.0\n"
          ]
        },
        {
          "output_type": "display_data",
          "data": {
            "text/plain": [
              "<Figure size 432x288 with 1 Axes>"
            ],
            "image/png": "[encoded data removed]"
          },
          "metadata": {
            "needs_background": "light"
          }
        }
      ]
    },
    {
      "cell_type": "code",
      "source": [],
      "metadata": {
        "id": "zWeDyZD93iUn"
      },
      "execution_count": null,
      "outputs": []
    }
  ]
}