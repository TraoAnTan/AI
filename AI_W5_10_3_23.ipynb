{
  "nbformat": 4,
  "nbformat_minor": 0,
  "metadata": {
    "colab": {
      "provenance": [],
      "authorship_tag": "ABX9TyNFRQHvVnQJSoj85KfIt91v",
      "include_colab_link": true
    },
    "kernelspec": {
      "name": "python3",
      "display_name": "Python 3"
    },
    "language_info": {
      "name": "python"
    }
  },
  "cells": [
    {
      "cell_type": "markdown",
      "metadata": {
        "id": "view-in-github",
        "colab_type": "text"
      },
      "source": [
        "<a href=\"https://colab.research.google.com/github/TraoAnTan/AI/blob/main/AI_W5_10_3_23.ipynb\" target=\"_parent\"><img src=\"https://colab.research.google.com/assets/colab-badge.svg\" alt=\"Open In Colab\"/></a>"
      ]
    },
    {
      "cell_type": "code",
      "execution_count": null,
      "metadata": {
        "colab": {
          "base_uri": "https://localhost:8080/"
        },
        "id": "FyrtTjCuGhPR",
        "outputId": "e14a7ef2-0bf7-4c4c-b64f-e40143f80376"
      },
      "outputs": [
        {
          "output_type": "stream",
          "name": "stdout",
          "text": [
            "Looking in indexes: https://pypi.org/simple, https://us-python.pkg.dev/colab-wheels/public/simple/\n",
            "Collecting scikit-fuzzy\n",
            "  Downloading scikit-fuzzy-0.4.2.tar.gz (993 kB)\n",
            "\u001b[2K     \u001b[90m━━━━━━━━━━━━━━━━━━━━━━━━━━━━━━━━━━━━━━\u001b[0m \u001b[32m994.0/994.0 KB\u001b[0m \u001b[31m15.8 MB/s\u001b[0m eta \u001b[36m0:00:00\u001b[0m\n",
            "\u001b[?25h  Preparing metadata (setup.py) ... \u001b[?25l\u001b[?25hdone\n",
            "Requirement already satisfied: numpy>=1.6.0 in /usr/local/lib/python3.9/dist-packages (from scikit-fuzzy) (1.22.4)\n",
            "Requirement already satisfied: scipy>=0.9.0 in /usr/local/lib/python3.9/dist-packages (from scikit-fuzzy) (1.10.1)\n",
            "Requirement already satisfied: networkx>=1.9.0 in /usr/local/lib/python3.9/dist-packages (from scikit-fuzzy) (3.0)\n",
            "Building wheels for collected packages: scikit-fuzzy\n",
            "  Building wheel for scikit-fuzzy (setup.py) ... \u001b[?25l\u001b[?25hdone\n",
            "  Created wheel for scikit-fuzzy: filename=scikit_fuzzy-0.4.2-py3-none-any.whl size=894088 sha256=bc933a1ae8dad6339bd7b648c6aa97b41965d2ed7b8351f8dcd41eef427e6cbc\n",
            "  Stored in directory: /root/.cache/pip/wheels/32/2c/a1/a90a7d7dd8448ec029f298a61f3490275e99b17aa348be675c\n",
            "Successfully built scikit-fuzzy\n",
            "Installing collected packages: scikit-fuzzy\n",
            "Successfully installed scikit-fuzzy-0.4.2\n"
          ]
        }
      ],
      "source": [
        "pip install scikit-fuzzy\n"
      ]
    },
    {
      "cell_type": "code",
      "source": [
        "import numpy as np\n",
        "import skfuzzy as fuzz\n",
        "import matplotlib.pyplot as plt\n",
        "from skfuzzy import control as ctrl\n",
        "\n",
        "\n",
        "setpoint= ctrl.Antecedent(np.arange(18,27,1), 'setpoint')\n",
        "sensor = ctrl.Antecedent(np.arange(0,40,1), 'sensor')\n",
        "hz = ctrl.Consequent(np.arange(0,60,1),'hz')\n",
        "\n",
        "setpoint['very low'] = fuzz.trimf(setpoint.universe, [18,18,20])\n",
        "setpoint['low'] = fuzz.trimf(setpoint.universe, [18,20,22])\n",
        "setpoint['medium'] = fuzz.trimf(setpoint.universe, [20,22,24])\n",
        "setpoint['medium good'] = fuzz.trimf(setpoint.universe, [22,24,26])\n",
        "setpoint['high'] = fuzz.trimf(setpoint.universe, [24,25,26])\n",
        "setpoint['very high'] = fuzz.trimf(setpoint.universe, [24,25,27])\n",
        "\n",
        "# setpoint.view()\n",
        "sensor['very low'] = fuzz.trimf(sensor.universe,[0,5,10])\n",
        "sensor['low'] = fuzz.trimf(sensor.universe,[5,10,15])\n",
        "sensor['medium'] = fuzz.trimf(sensor.universe,[10,15,20])\n",
        "sensor['medium good'] = fuzz.trimf(sensor.universe,[15,20,25])\n",
        "sensor['high'] = fuzz.trimf(sensor.universe,[20,25,30])\n",
        "sensor['very high'] = fuzz.trimf(sensor.universe,[25,35,40])\n",
        "\n",
        "# sensor.view()\n",
        "\n",
        "hz['very low'] =fuzz.trimf(hz.universe,[0,10,20])\n",
        "hz['low'] =fuzz.trimf(hz.universe,[10,20,30])\n",
        "hz['medium'] =fuzz.trimf(hz.universe,[20,30,40])\n",
        "hz['high'] =fuzz.trimf(hz.universe,[30,40,50])\n",
        "hz['very high'] =fuzz.trimf(hz.universe,[40,50,60])\n",
        "\n",
        "# hz.view()\n",
        "rule1 =ctrl.Rule(setpoint['very low']& sensor['very low'],hz['very low']) \n",
        "rule2 =ctrl.Rule(setpoint['very low']& sensor['low'],hz['very low'])\n",
        "rule3 =ctrl.Rule(setpoint['very low']& sensor['medium'],hz['very low'])  \n",
        "rule4 =ctrl.Rule(setpoint['very low']& sensor['medium good'],hz['low']) \n",
        "rule5 =ctrl.Rule(setpoint['very low']& sensor['high'],hz['very high']) \n",
        "rule6 =ctrl.Rule(setpoint['very low']& sensor['very high'],hz['very high']) \n",
        "\n",
        "rule7 =ctrl.Rule(setpoint['low']& sensor['very low'],hz['very low'])\n",
        "rule8 =ctrl.Rule(setpoint['low']& sensor['low'],hz['low'])  \n",
        "rule9 =ctrl.Rule(setpoint['low']& sensor['medium'],hz['very low'])\n",
        "rule10 =ctrl.Rule(setpoint['low']& sensor['high'],hz['high'])   \n",
        "rule11 =ctrl.Rule(setpoint['low']& sensor['very high'],hz['very high'])  \n",
        "rule12 =ctrl.Rule(setpoint['low']& sensor['medium good'],hz['medium'])  \n",
        "\n",
        "rule13 =ctrl.Rule(setpoint['medium']& sensor['very low'],hz['low']) \n",
        "rule14 =ctrl.Rule(setpoint['medium']& sensor['low'],hz['low'])  \n",
        "rule15 =ctrl.Rule(setpoint['medium']& sensor['medium'],hz['very low']) \n",
        "rule16 =ctrl.Rule(setpoint['medium']& sensor['high'],hz['medium'])\n",
        "rule17 =ctrl.Rule(setpoint['medium']& sensor['very high'],hz['medium']) \n",
        "rule18 =ctrl.Rule(setpoint['medium']& sensor['medium good'],hz['medium']) \n",
        "\n",
        "rule19 =ctrl.Rule(setpoint['medium good']& sensor['very low'],hz['low'])\n",
        "rule20 =ctrl.Rule(setpoint['medium good']& sensor['low'],hz['medium'])\n",
        "rule21 =ctrl.Rule(setpoint['medium good']& sensor['medium'],hz['low'])\n",
        "rule22 =ctrl.Rule(setpoint['medium good']& sensor['high'],hz['medium'])\n",
        "rule23 =ctrl.Rule(setpoint['medium good']& sensor['very high'],hz['medium'])\n",
        "rule24 =ctrl.Rule(setpoint['medium good']& sensor['medium good'],hz['medium'])\n",
        "\n",
        "rule25 =ctrl.Rule(setpoint['high']& sensor['very low'],hz['medium'])\n",
        "rule26 =ctrl.Rule(setpoint['high']& sensor['low'],hz['high'])\n",
        "rule27 =ctrl.Rule(setpoint['high']& sensor['medium'],hz['medium'])\n",
        "rule28 =ctrl.Rule(setpoint['high']& sensor['high'],hz['low'])\n",
        "rule29 =ctrl.Rule(setpoint['high']& sensor['very high'],hz['very low'])\n",
        "rule30 =ctrl.Rule(setpoint['high']& sensor['medium good'],hz['high'])\n",
        "\n",
        "rule31 =ctrl.Rule(setpoint['very high']& sensor['very low'],hz['high'])\n",
        "rule32 =ctrl.Rule(setpoint['very high']& sensor['low'],hz['high'])\n",
        "rule33 =ctrl.Rule(setpoint['very high']& sensor['medium'],hz['high'])\n",
        "rule34 =ctrl.Rule(setpoint['very high']& sensor['high'],hz['low'])\n",
        "rule35 =ctrl.Rule(setpoint['very high']& sensor['very high'],hz['low'])\n",
        "rule36 =ctrl.Rule(setpoint['very high']& sensor['medium good'],hz['high'])\n",
        "\n",
        "\n",
        "hz_ctrl = ctrl.ControlSystem([rule1,rule2,rule3,rule4,rule5,rule6,rule7,rule8,rule9,rule10,rule11,rule12,rule13,rule14,rule15,rule16,rule17,rule18,rule19,rule20,rule22,\n",
        "                              rule23,rule24,rule25,rule26,rule27,rule28,rule29,rule30,rule31,rule32,rule33,rule34,rule35,rule36])\n",
        "hz_result = ctrl.ControlSystemSimulation(hz_ctrl)\n",
        "hz_result.input['setpoint'] = 25\n",
        "hz_result.input['sensor'] = 34\n",
        "hz_result.compute()\n",
        "print(hz_result.output['hz'])\n",
        "hz.view(sim = hz_result)\n",
        "\n",
        "\n"
      ],
      "metadata": {
        "colab": {
          "base_uri": "https://localhost:8080/",
          "height": 298
        },
        "id": "xbE1cKESG2Of",
        "outputId": "43bce42d-2eeb-460c-eaaf-188f6c875ff1"
      },
      "execution_count": null,
      "outputs": [
        {
          "output_type": "stream",
          "name": "stdout",
          "text": [
            "18.923766816143488\n"
          ]
        },
        {
          "output_type": "display_data",
          "data": {
            "text/plain": [
              "<Figure size 432x288 with 1 Axes>"
            ],
            "image/png": "[encoded data removed]"
          },
          "metadata": {
            "needs_background": "light"
          }
        }
      ]
    },
    {
      "cell_type": "code",
      "source": [
        "import numpy as np\n",
        "import skfuzzy as fuzz\n",
        "import matplotlib.pyplot as plt\n",
        "from skfuzzy import control as ctrl\n",
        "\n",
        "\n",
        "left= ctrl.Antecedent(np.arange(0,1.5,0.1), 'left')\n",
        "right = ctrl.Antecedent(np.arange(0,1.5,0.1), 'right')\n",
        "center= ctrl.Antecedent(np.arange(0,1.5,0.1),'center')\n",
        "\n",
        "lc = ctrl. Consequent(np.arange(-90,0,1),'lc')\n",
        "rc = ctrl.Consequent(np.arange(0,90,1), 'rc')\n",
        "\n",
        "pwm = ctrl.Consequent(np.arange(0,255,1), 'pwm')\n",
        "\n",
        "left['little'] =fuzz.trimf(left.universe,[0,0.7,0.9])\n",
        "left['average'] = fuzz.trimf(left.universe,[0.7,0.9,1.1])\n",
        "left['much'] = fuzz.trimf(left.universe,[0.9,1.2,1.5])\n",
        "right['little'] = fuzz.trimf(right.universe,[0,0.7,0.9])\n",
        "right['average'] = fuzz.trimf(right.universe,[0.7,0.9,1.1])\n",
        "right['much'] = fuzz.trimf(right.universe,[0.9,1.2,1.5])\n",
        "center['little'] = fuzz.trimf(center.universe,[0,0.7,0.9])\n",
        "center['average'] = fuzz.trimf(center.universe,[0.7,0.9,1.1])\n",
        "center['much'] = fuzz.trimf(center.universe,[1.1,1.2,1.5])\n",
        "\n",
        "lc['turn very low'] = fuzz.trimf(lc.universe, [-90,-80,-70])\n",
        "lc['turn low'] = fuzz.trimf(lc.universe, [-80,-70,-60])\n",
        "lc['medium'] = fuzz.trimf(lc.universe, [-70,-60,-50])\n",
        "lc['turn high'] = fuzz.trimf(lc.universe, [-60,-40,-20])\n",
        "lc['turn very high'] = fuzz.trimf(lc.universe, [-40,-20,0])\n",
        "\n",
        "rc['turn very low'] = fuzz.trimf(lc.universe, [0,10,20])\n",
        "rc['turn low'] = fuzz.trimf(lc.universe, [10,20,40])\n",
        "rc['medium'] = fuzz.trimf(lc.universe, [20,40,60])\n",
        "rc['turn high'] = fuzz.trimf(lc.universe, [60,70,80])\n",
        "rc['turn very high'] = fuzz.trimf(lc.universe, [70,80,90])\n",
        "\n",
        "pwm['very low'] = fuzz.trimf(pwm.universe, [0,30,60])\n",
        "pwm['low'] = fuzz.trimf(pwm.universe, [30,60,90])\n",
        "pwm['medium'] = fuzz.trimf(pwm.universe, [60,90,120])\n",
        "pwm['high'] = fuzz.trimf(pwm.universe, [90,140,190])\n",
        "pwm['very high'] = fuzz.trimf(pwm.universe, [160,205,255])\n",
        "\n",
        "rule1= \n",
        "\n"
      ],
      "metadata": {
        "id": "bFTDrXKSJxIc"
      },
      "execution_count": null,
      "outputs": []
    },
    {
      "cell_type": "code",
      "source": [],
      "metadata": {
        "id": "0n4fCgwlY8iR"
      },
      "execution_count": null,
      "outputs": []
    }
  ]
}